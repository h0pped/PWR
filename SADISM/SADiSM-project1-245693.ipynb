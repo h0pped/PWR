{
 "cells": [
  {
   "cell_type": "markdown",
   "metadata": {
    "id": "e8Oql_ceFu9j"
   },
   "source": [
    "# I. Introduction\n",
    "\n",
    " The purpose of this project is to verify the claim that **IQ level** affects a large number of human factors, in particular, the **crime rate**.\n",
    "\n"
   ]
  },
  {
   "cell_type": "markdown",
   "metadata": {
    "id": "tx_U-nPlKnrz"
   },
   "source": [
    "# II. Short Information\n",
    "\n",
    "  I took 2021 IQ data from the **World Population Review** website, which contains many different interesting statistics about humanity: https://worldpopulationreview.com/country-rankings/average-iq-by-country\n",
    "\n",
    "  Also i took **2021 Crime index statistics** by countries: https://www.numbeo.com/crime/rankings_by_country.jsp\n",
    "\n",
    "Based on the data from these two resources, I created a csv file with IQ statistics by countries and crime index in this countries.\n",
    "\n",
    "*There are many countries that are not represented in the crime index statistics for 2021 year and to get more accurate statistics I'm not going to predict the data, so I decided take their crime indexes for the previous years (I don't think that criminal countries can change their position dramatically in a couple of years). The data was taken from https://numbeo.com/crime.\n",
    "\n",
    "I uploaded *.csv file to **github** repository to easily get access to the data: https://github.com/h0pped/SADISM-project-1\n",
    "\n",
    "So here is a link to a **CSV File**: https://raw.githubusercontent.com/h0pped/SADISM-project-1/main/stat.csv\n",
    "\n",
    "---\n",
    "\n",
    "Some of the source code was inspired by lab's *.ipynb notes from our lessons and information about how some things work in python (especcialy, pandas  and sklearn libraries) was taken from official documentation of these libraries: \n",
    "\n",
    "*   https://byes.pl/systemy/\n",
    "*   https://pandas.pydata.org/docs/\n",
    "*   https://scikit-learn.org/0.21/documentation.html\n",
    "\n"
   ]
  },
  {
   "cell_type": "markdown",
   "metadata": {
    "id": "uTHyWOUFePOk"
   },
   "source": [
    "# III. Acquire the data"
   ]
  },
  {
   "cell_type": "code",
   "execution_count": null,
   "metadata": {
    "colab": {
     "base_uri": "https://localhost:8080/",
     "height": 521
    },
    "executionInfo": {
     "elapsed": 455,
     "status": "ok",
     "timestamp": 1621524390545,
     "user": {
      "displayName": "Illia Nykonchuk",
      "photoUrl": "https://lh3.googleusercontent.com/a-/AOh14Gh9gjHB671-ZQKD_kDSRZfL6fqZGP7xsZGzdcpc=s64",
      "userId": "12280364345157466672"
     },
     "user_tz": -180
    },
    "id": "ag2SQjXueUVd",
    "outputId": "fc5150ad-f52e-4cc5-e34e-ff42dbbd697d"
   },
   "outputs": [
    {
     "data": {
      "text/html": [
       "<div>\n",
       "<style scoped>\n",
       "    .dataframe tbody tr th:only-of-type {\n",
       "        vertical-align: middle;\n",
       "    }\n",
       "\n",
       "    .dataframe tbody tr th {\n",
       "        vertical-align: top;\n",
       "    }\n",
       "\n",
       "    .dataframe thead th {\n",
       "        text-align: right;\n",
       "    }\n",
       "</style>\n",
       "<table border=\"1\" class=\"dataframe\">\n",
       "  <thead>\n",
       "    <tr style=\"text-align: right;\">\n",
       "      <th></th>\n",
       "      <th>IQ</th>\n",
       "      <th>Crime index</th>\n",
       "    </tr>\n",
       "    <tr>\n",
       "      <th>Country</th>\n",
       "      <th></th>\n",
       "      <th></th>\n",
       "    </tr>\n",
       "  </thead>\n",
       "  <tbody>\n",
       "    <tr>\n",
       "      <th>uzbekistan</th>\n",
       "      <td>87</td>\n",
       "      <td>34.70</td>\n",
       "    </tr>\n",
       "    <tr>\n",
       "      <th>qatar</th>\n",
       "      <td>78</td>\n",
       "      <td>12.29</td>\n",
       "    </tr>\n",
       "    <tr>\n",
       "      <th>netherlands</th>\n",
       "      <td>100</td>\n",
       "      <td>27.22</td>\n",
       "    </tr>\n",
       "    <tr>\n",
       "      <th>djibouti</th>\n",
       "      <td>68</td>\n",
       "      <td>57.53</td>\n",
       "    </tr>\n",
       "    <tr>\n",
       "      <th>myanmar</th>\n",
       "      <td>87</td>\n",
       "      <td>47.17</td>\n",
       "    </tr>\n",
       "    <tr>\n",
       "      <th>lesotho</th>\n",
       "      <td>67</td>\n",
       "      <td>61.44</td>\n",
       "    </tr>\n",
       "    <tr>\n",
       "      <th>austria</th>\n",
       "      <td>100</td>\n",
       "      <td>25.23</td>\n",
       "    </tr>\n",
       "    <tr>\n",
       "      <th>czech republic</th>\n",
       "      <td>98</td>\n",
       "      <td>25.31</td>\n",
       "    </tr>\n",
       "    <tr>\n",
       "      <th>cape verde</th>\n",
       "      <td>76</td>\n",
       "      <td>56.09</td>\n",
       "    </tr>\n",
       "    <tr>\n",
       "      <th>hong kong</th>\n",
       "      <td>108</td>\n",
       "      <td>21.73</td>\n",
       "    </tr>\n",
       "    <tr>\n",
       "      <th>eritrea</th>\n",
       "      <td>85</td>\n",
       "      <td>21.44</td>\n",
       "    </tr>\n",
       "    <tr>\n",
       "      <th>saint lucia</th>\n",
       "      <td>62</td>\n",
       "      <td>61.06</td>\n",
       "    </tr>\n",
       "    <tr>\n",
       "      <th>solomon islands</th>\n",
       "      <td>84</td>\n",
       "      <td>58.50</td>\n",
       "    </tr>\n",
       "    <tr>\n",
       "      <th>mexico</th>\n",
       "      <td>88</td>\n",
       "      <td>55.00</td>\n",
       "    </tr>\n",
       "    <tr>\n",
       "      <th>andorra</th>\n",
       "      <td>98</td>\n",
       "      <td>14.50</td>\n",
       "    </tr>\n",
       "  </tbody>\n",
       "</table>\n",
       "</div>"
      ],
      "text/plain": [
       "                  IQ  Crime index\n",
       "Country                          \n",
       "uzbekistan        87        34.70\n",
       "qatar             78        12.29\n",
       "netherlands      100        27.22\n",
       "djibouti          68        57.53\n",
       "myanmar           87        47.17\n",
       "lesotho           67        61.44\n",
       "austria          100        25.23\n",
       "czech republic    98        25.31\n",
       "cape verde        76        56.09\n",
       "hong kong        108        21.73\n",
       "eritrea           85        21.44\n",
       "saint lucia       62        61.06\n",
       "solomon islands   84        58.50\n",
       "mexico            88        55.00\n",
       "andorra           98        14.50"
      ]
     },
     "execution_count": 169,
     "metadata": {
      "tags": []
     },
     "output_type": "execute_result"
    }
   ],
   "source": [
    "import urllib.request\n",
    "import os\n",
    "import pandas as pd\n",
    "\n",
    "filename = 'stat.csv'\n",
    "url = \"https://raw.githubusercontent.com/h0pped/SADISM-project-1/main/\"+filename\n",
    "urllib.request.urlretrieve(url, filename)\n",
    "\n",
    "data = pd.read_csv(filename, index_col=[0])\n",
    "data.sample(15)\n"
   ]
  },
  {
   "cell_type": "markdown",
   "metadata": {
    "id": "NC0PPWpueuwl"
   },
   "source": [
    "# IV. Orginizing the dataset\n",
    "\n",
    "To work with data we need to take **average crime index** for each **iq marking**\n",
    "\n",
    "**But there is some problem with a data: **\n",
    "\n",
    "\n",
    "*   If you check the **.csv** file, you will see that some **IQ** values are specific to one country only (for example Equatorial Guinea or Gambia), which is inappropriate because the whole \"picture\" will not be displayed in this case.\n",
    "\n",
    "**Possible Fix:**\n",
    "\n",
    "\n",
    "*   To take into consideration only **IQ** values which have 2 (or even better 3) or more countries in statistic so **average crime index** by this **IQ** will be calculated more accurately\n",
    "\n",
    "\n"
   ]
  },
  {
   "cell_type": "code",
   "execution_count": null,
   "metadata": {
    "colab": {
     "base_uri": "https://localhost:8080/",
     "height": 876
    },
    "executionInfo": {
     "elapsed": 658,
     "status": "ok",
     "timestamp": 1621518447401,
     "user": {
      "displayName": "Illia Nykonchuk",
      "photoUrl": "https://lh3.googleusercontent.com/a-/AOh14Gh9gjHB671-ZQKD_kDSRZfL6fqZGP7xsZGzdcpc=s64",
      "userId": "12280364345157466672"
     },
     "user_tz": -180
    },
    "id": "ixsoFLhCe8OM",
    "outputId": "4a1ae136-b2d7-43ca-a204-555f4984c2be"
   },
   "outputs": [
    {
     "data": {
      "text/html": [
       "<div>\n",
       "<style scoped>\n",
       "    .dataframe tbody tr th:only-of-type {\n",
       "        vertical-align: middle;\n",
       "    }\n",
       "\n",
       "    .dataframe tbody tr th {\n",
       "        vertical-align: top;\n",
       "    }\n",
       "\n",
       "    .dataframe thead th {\n",
       "        text-align: right;\n",
       "    }\n",
       "</style>\n",
       "<table border=\"1\" class=\"dataframe\">\n",
       "  <thead>\n",
       "    <tr style=\"text-align: right;\">\n",
       "      <th></th>\n",
       "      <th>IQ</th>\n",
       "      <th>AVG Crime index</th>\n",
       "    </tr>\n",
       "  </thead>\n",
       "  <tbody>\n",
       "    <tr>\n",
       "      <th>0</th>\n",
       "      <td>64.0</td>\n",
       "      <td>59.9</td>\n",
       "    </tr>\n",
       "    <tr>\n",
       "      <th>1</th>\n",
       "      <td>67.0</td>\n",
       "      <td>57.7</td>\n",
       "    </tr>\n",
       "    <tr>\n",
       "      <th>2</th>\n",
       "      <td>68.0</td>\n",
       "      <td>55.0</td>\n",
       "    </tr>\n",
       "    <tr>\n",
       "      <th>3</th>\n",
       "      <td>69.0</td>\n",
       "      <td>54.7</td>\n",
       "    </tr>\n",
       "    <tr>\n",
       "      <th>4</th>\n",
       "      <td>70.0</td>\n",
       "      <td>41.0</td>\n",
       "    </tr>\n",
       "    <tr>\n",
       "      <th>5</th>\n",
       "      <td>71.0</td>\n",
       "      <td>57.8</td>\n",
       "    </tr>\n",
       "    <tr>\n",
       "      <th>6</th>\n",
       "      <td>76.0</td>\n",
       "      <td>52.8</td>\n",
       "    </tr>\n",
       "    <tr>\n",
       "      <th>7</th>\n",
       "      <td>79.0</td>\n",
       "      <td>47.5</td>\n",
       "    </tr>\n",
       "    <tr>\n",
       "      <th>8</th>\n",
       "      <td>80.0</td>\n",
       "      <td>53.1</td>\n",
       "    </tr>\n",
       "    <tr>\n",
       "      <th>9</th>\n",
       "      <td>81.0</td>\n",
       "      <td>56.5</td>\n",
       "    </tr>\n",
       "    <tr>\n",
       "      <th>10</th>\n",
       "      <td>82.0</td>\n",
       "      <td>55.8</td>\n",
       "    </tr>\n",
       "    <tr>\n",
       "      <th>11</th>\n",
       "      <td>83.0</td>\n",
       "      <td>50.3</td>\n",
       "    </tr>\n",
       "    <tr>\n",
       "      <th>12</th>\n",
       "      <td>84.0</td>\n",
       "      <td>48.6</td>\n",
       "    </tr>\n",
       "    <tr>\n",
       "      <th>13</th>\n",
       "      <td>85.0</td>\n",
       "      <td>53.2</td>\n",
       "    </tr>\n",
       "    <tr>\n",
       "      <th>14</th>\n",
       "      <td>86.0</td>\n",
       "      <td>44.1</td>\n",
       "    </tr>\n",
       "    <tr>\n",
       "      <th>15</th>\n",
       "      <td>87.0</td>\n",
       "      <td>46.5</td>\n",
       "    </tr>\n",
       "    <tr>\n",
       "      <th>16</th>\n",
       "      <td>88.0</td>\n",
       "      <td>50.1</td>\n",
       "    </tr>\n",
       "    <tr>\n",
       "      <th>17</th>\n",
       "      <td>89.0</td>\n",
       "      <td>46.1</td>\n",
       "    </tr>\n",
       "    <tr>\n",
       "      <th>18</th>\n",
       "      <td>90.0</td>\n",
       "      <td>42.8</td>\n",
       "    </tr>\n",
       "    <tr>\n",
       "      <th>19</th>\n",
       "      <td>91.0</td>\n",
       "      <td>43.9</td>\n",
       "    </tr>\n",
       "    <tr>\n",
       "      <th>20</th>\n",
       "      <td>92.0</td>\n",
       "      <td>49.0</td>\n",
       "    </tr>\n",
       "    <tr>\n",
       "      <th>21</th>\n",
       "      <td>94.0</td>\n",
       "      <td>34.9</td>\n",
       "    </tr>\n",
       "    <tr>\n",
       "      <th>22</th>\n",
       "      <td>96.0</td>\n",
       "      <td>37.3</td>\n",
       "    </tr>\n",
       "    <tr>\n",
       "      <th>23</th>\n",
       "      <td>97.0</td>\n",
       "      <td>46.9</td>\n",
       "    </tr>\n",
       "    <tr>\n",
       "      <th>24</th>\n",
       "      <td>98.0</td>\n",
       "      <td>35.3</td>\n",
       "    </tr>\n",
       "    <tr>\n",
       "      <th>25</th>\n",
       "      <td>99.0</td>\n",
       "      <td>35.4</td>\n",
       "    </tr>\n",
       "    <tr>\n",
       "      <th>26</th>\n",
       "      <td>100.0</td>\n",
       "      <td>32.6</td>\n",
       "    </tr>\n",
       "    <tr>\n",
       "      <th>27</th>\n",
       "      <td>101.0</td>\n",
       "      <td>33.7</td>\n",
       "    </tr>\n",
       "  </tbody>\n",
       "</table>\n",
       "</div>"
      ],
      "text/plain": [
       "       IQ  AVG Crime index\n",
       "0    64.0             59.9\n",
       "1    67.0             57.7\n",
       "2    68.0             55.0\n",
       "3    69.0             54.7\n",
       "4    70.0             41.0\n",
       "5    71.0             57.8\n",
       "6    76.0             52.8\n",
       "7    79.0             47.5\n",
       "8    80.0             53.1\n",
       "9    81.0             56.5\n",
       "10   82.0             55.8\n",
       "11   83.0             50.3\n",
       "12   84.0             48.6\n",
       "13   85.0             53.2\n",
       "14   86.0             44.1\n",
       "15   87.0             46.5\n",
       "16   88.0             50.1\n",
       "17   89.0             46.1\n",
       "18   90.0             42.8\n",
       "19   91.0             43.9\n",
       "20   92.0             49.0\n",
       "21   94.0             34.9\n",
       "22   96.0             37.3\n",
       "23   97.0             46.9\n",
       "24   98.0             35.3\n",
       "25   99.0             35.4\n",
       "26  100.0             32.6\n",
       "27  101.0             33.7"
      ]
     },
     "metadata": {
      "tags": []
     },
     "output_type": "display_data"
    }
   ],
   "source": [
    "import numpy as np\n",
    "import math\n",
    "iq = data['IQ'].values\n",
    "crime = data[\"Crime index\"].values\n",
    "\n",
    "dictionary = dict()\n",
    "avg = dict()\n",
    "for index,row in data.iterrows():\n",
    "  if row['IQ'] in dictionary:\n",
    "    dictionary.get(row['IQ']).append(row['Crime index'])\n",
    "  else:\n",
    "    dictionary[row['IQ']] = [row['Crime index']]\n",
    "\n",
    "for x in dictionary:\n",
    "  if(len(dictionary[x])>=3): #filter\n",
    "    avg[x] = round((sum(dictionary[x])/len(dictionary[x])),1)\n",
    "\n",
    "\n",
    "df = pd.DataFrame({\"IQ\":avg.keys(),\"AVG Crime index\":avg.values()})\n",
    "display(df)\n"
   ]
  },
  {
   "cell_type": "markdown",
   "metadata": {
    "id": "ji4bdpsO2XUo"
   },
   "source": [
    "Extract data:\n",
    "\n",
    "\n"
   ]
  },
  {
   "cell_type": "code",
   "execution_count": null,
   "metadata": {
    "colab": {
     "base_uri": "https://localhost:8080/"
    },
    "executionInfo": {
     "elapsed": 437,
     "status": "ok",
     "timestamp": 1621518448903,
     "user": {
      "displayName": "Illia Nykonchuk",
      "photoUrl": "https://lh3.googleusercontent.com/a-/AOh14Gh9gjHB671-ZQKD_kDSRZfL6fqZGP7xsZGzdcpc=s64",
      "userId": "12280364345157466672"
     },
     "user_tz": -180
    },
    "id": "XrWrIVw62Ztw",
    "outputId": "d005c637-14a0-44d4-eab8-00a54bf6cbd8"
   },
   "outputs": [
    {
     "name": "stdout",
     "output_type": "stream",
     "text": [
      "[ 64.  67.  68.  69.  70.  71.  76.  79.  80.  81.  82.  83.  84.  85.\n",
      "  86.  87.  88.  89.  90.  91.  92.  94.  96.  97.  98.  99. 100. 101.]\n",
      "[59.9 57.7 55.  54.7 41.  57.8 52.8 47.5 53.1 56.5 55.8 50.3 48.6 53.2\n",
      " 44.1 46.5 50.1 46.1 42.8 43.9 49.  34.9 37.3 46.9 35.3 35.4 32.6 33.7]\n"
     ]
    }
   ],
   "source": [
    "x = df['IQ'].values\n",
    "y = df['AVG Crime index'].values\n",
    "\n",
    "print(x)\n",
    "print(y)"
   ]
  },
  {
   "cell_type": "markdown",
   "metadata": {
    "id": "WA0eB21I4ag2"
   },
   "source": [
    "# V. Machine Learning\n",
    "\n",
    "The purpose of the model is to **predict crime index** according to **IQ level** for all positions\n"
   ]
  },
  {
   "cell_type": "code",
   "execution_count": null,
   "metadata": {
    "colab": {
     "base_uri": "https://localhost:8080/"
    },
    "executionInfo": {
     "elapsed": 516,
     "status": "ok",
     "timestamp": 1621520167550,
     "user": {
      "displayName": "Illia Nykonchuk",
      "photoUrl": "https://lh3.googleusercontent.com/a-/AOh14Gh9gjHB671-ZQKD_kDSRZfL6fqZGP7xsZGzdcpc=s64",
      "userId": "12280364345157466672"
     },
     "user_tz": -180
    },
    "id": "-ngP89tY5YMw",
    "outputId": "316e1443-14c9-46a6-d8ce-49160a1de435"
   },
   "outputs": [
    {
     "name": "stdout",
     "output_type": "stream",
     "text": [
      "Linear model params: [-0.59557244], 97.57928460032517\n",
      "GLM model params: [ 0.00000000e+00  3.27360725e-02  1.94890841e-02  3.96851472e-01\n",
      " -1.94011681e-02  3.99350840e-04 -4.23241716e-06  2.28296603e-08\n",
      " -4.98062633e-11], -2892.7219674134226\n",
      "MSE Linear:  23.11451230649873\n",
      "MSE SVR:  32.474541770153714\n",
      "MSE GLM:  16.17281651668347\n"
     ]
    }
   ],
   "source": [
    "# =================== Linear model ===================\n",
    "from sklearn.linear_model import LinearRegression\n",
    "from sklearn.metrics import mean_squared_error\n",
    "\n",
    "linear_model = LinearRegression()\n",
    "linear_model.fit(x.reshape(-1,1), y)\n",
    "print(f'Linear model params: {linear_model.coef_}, {linear_model.intercept_}')\n",
    "mean_lin_err = mean_squared_error(y, linear_model.predict(x.reshape(-1,1)))\n",
    "\n",
    "# =================== Support Vector Machine (Regression) ===================\n",
    "from sklearn.svm import SVR\n",
    "\n",
    "svr_model = SVR()\n",
    "svr_model.fit(x.reshape(-1,1), y)\n",
    "mean_svr_model = mean_squared_error(y,svr_model.predict(x.reshape(-1,1)))\n",
    "\n",
    "# =================== General Linear Model (GLM) ===================\n",
    "from sklearn.preprocessing import PolynomialFeatures\n",
    "\n",
    "GLM_degree = 8\n",
    "GLM_model = LinearRegression()\n",
    "preX = PolynomialFeatures(degree=GLM_degree, \n",
    "                          include_bias=True, \n",
    "                          interaction_only=False)\n",
    "Xpreprocessed = preX.fit_transform(x.reshape(-1,1))\n",
    "GLM_model.fit(Xpreprocessed, y)\n",
    "mean_glm = mean_squared_error(y,GLM_model.predict(Xpreprocessed))\n",
    "\n",
    "print(f'GLM model params: {GLM_model.coef_}, {GLM_model.intercept_}')\n",
    "\n",
    "# ========== models predictions for the entire x axis ===================\n",
    "\n",
    "x_axis = np.linspace(start=x.min(), stop=x.max(), num=300)\n",
    "y_lin_pred_axis = linear_model.predict(x_axis.reshape(-1,1))\n",
    "Xpreprocessed = preX.fit_transform(x_axis.reshape(-1,1))\n",
    "y_GLM_pred_axis = GLM_model.predict(Xpreprocessed)\n",
    "y_svr_pred_axis = svr_model.predict(x_axis.reshape(-1,1))\n",
    "\n",
    "print(\"MSE Linear: \",mean_lin_err)\n",
    "print(\"MSE SVR: \",mean_svr_model)\n",
    "print(\"MSE GLM: \",mean_glm)"
   ]
  },
  {
   "cell_type": "markdown",
   "metadata": {
    "id": "QEa7mhNcEVlB"
   },
   "source": [
    "I am partially satisfied with the results, since in GLM we see the smallest measurement error."
   ]
  },
  {
   "cell_type": "markdown",
   "metadata": {
    "id": "TryI3K9a6B83"
   },
   "source": [
    "# VI. Conclusion"
   ]
  },
  {
   "cell_type": "code",
   "execution_count": 1,
   "metadata": {
    "colab": {
     "base_uri": "https://localhost:8080/",
     "height": 230
    },
    "executionInfo": {
     "elapsed": 884,
     "status": "ok",
     "timestamp": 1621525788790,
     "user": {
      "displayName": "Illia Nykonchuk",
      "photoUrl": "https://lh3.googleusercontent.com/a-/AOh14Gh9gjHB671-ZQKD_kDSRZfL6fqZGP7xsZGzdcpc=s64",
      "userId": "12280364345157466672"
     },
     "user_tz": -180
    },
    "id": "kVQLgFXq6Frt",
    "outputId": "60fe34e4-91f0-4249-cf55-a8412499cade"
   },
   "outputs": [
    {
     "ename": "SyntaxError",
     "evalue": "invalid syntax (<ipython-input-1-67521893595a>, line 10)",
     "output_type": "error",
     "traceback": [
      "\u001b[1;36m  File \u001b[1;32m\"<ipython-input-1-67521893595a>\"\u001b[1;36m, line \u001b[1;32m10\u001b[0m\n\u001b[1;33m    plt.xlabel(df.columns[0], fontsize=15)\u001b[0m\n\u001b[1;37m    ^\u001b[0m\n\u001b[1;31mSyntaxError\u001b[0m\u001b[1;31m:\u001b[0m invalid syntax\n"
     ]
    }
   ],
   "source": [
    "import matplotlib.pyplot as plt\n",
    "\n",
    "# =========== Visualize the data and models\n",
    "plt.figure(figsize=(15,3))\n",
    "plt.scatter(x,y, label='data')\n",
    "plt.plot(x_axis, y_lin_pred_axis, color='tab:orange', label='Linear model')\n",
    "plt.plot(x_axis, y_svr_pred_axis, color='tab:green', label='SVR model')\n",
    "plt.plot(x_axis, y_GLM_pred_axis, color='tab:red', label='GLM model')\n",
    "plt.xlabel(df.columns[0], fontsize=15)\n",
    "plt.ylabel(df.columns[1], fontsize=15)\n",
    "plt.legend()\n",
    "plt.ylim([y.min()-1, y.max()+2])\n",
    "plt.show()"
   ]
  },
  {
   "cell_type": "markdown",
   "metadata": {
    "id": "4H-r1W8JUNcB"
   },
   "source": [
    "*  If we take the linear model into account, then we can clearly see that as the IQ level increases, the crime rate decreases. \n",
    "\n",
    "* The predictions would be more accurate if we had more data, but I think this is enough to see the correlation between these two measurements.\n",
    "\n",
    "* Of course it is not enough to check only IQ level, because there a lot of another factors that may have an influence on the crime level such as standard of living, level of salaries etc., but If you look at the input data, you will notice that the main statistics of low IQ made by countries with low social and economic development\n",
    "* Hence, I guess that this exploration is very \"raw\" but it can be used in the future researches connected to this topic\n",
    "\n",
    "Also, during the execution of this project, I found some interesting research on the relationship between IQ and crime rates in European countries(which, I guess, may relate to every country), which partially supports the model above: https://www.researchgate.net/publication/258857651_An_analysis_of_the_relation_between_IQ_and_crime_in_the_European_countries"
   ]
  }
 ],
 "metadata": {
  "colab": {
   "authorship_tag": "ABX9TyOtB6Wu+q3gV3FIILZySc8O",
   "collapsed_sections": [],
   "name": "SADiSM-project1-245693.ipynb",
   "provenance": [],
   "toc_visible": true
  },
  "kernelspec": {
   "display_name": "Python 3",
   "language": "python",
   "name": "python3"
  },
  "language_info": {
   "codemirror_mode": {
    "name": "ipython",
    "version": 3
   },
   "file_extension": ".py",
   "mimetype": "text/x-python",
   "name": "python",
   "nbconvert_exporter": "python",
   "pygments_lexer": "ipython3",
   "version": "3.9.2"
  }
 },
 "nbformat": 4,
 "nbformat_minor": 4
}
